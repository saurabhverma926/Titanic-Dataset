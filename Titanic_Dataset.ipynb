{
  "nbformat": 4,
  "nbformat_minor": 0,
  "metadata": {
    "colab": {
      "name": "Titanic Dataset.ipynb",
      "provenance": []
    },
    "kernelspec": {
      "name": "python3",
      "display_name": "Python 3"
    },
    "language_info": {
      "name": "python"
    }
  },
  "cells": [
    {
      "cell_type": "code",
      "metadata": {
        "id": "Zf0h-SOY2N4i"
      },
      "source": [
        "import numpy as np\n",
        "import pandas as pd\n",
        "import matplotlib.pyplot as plt\n",
        "import seaborn as sn\n",
        "\n",
        "import warnings\n",
        "warnings.filterwarnings('ignore')"
      ],
      "execution_count": null,
      "outputs": []
    },
    {
      "cell_type": "code",
      "metadata": {
        "id": "ULn9vzrdzrxf"
      },
      "source": [
        "import warnings\n",
        "warnings.filterwarnings('ignore')"
      ],
      "execution_count": null,
      "outputs": []
    },
    {
      "cell_type": "code",
      "metadata": {
        "colab": {
          "resources": {
            "http://localhost:8080/nbextensions/google.colab/files.js": {
              "data": "Ly8gQ29weXJpZ2h0IDIwMTcgR29vZ2xlIExMQwovLwovLyBMaWNlbnNlZCB1bmRlciB0aGUgQXBhY2hlIExpY2Vuc2UsIFZlcnNpb24gMi4wICh0aGUgIkxpY2Vuc2UiKTsKLy8geW91IG1heSBub3QgdXNlIHRoaXMgZmlsZSBleGNlcHQgaW4gY29tcGxpYW5jZSB3aXRoIHRoZSBMaWNlbnNlLgovLyBZb3UgbWF5IG9idGFpbiBhIGNvcHkgb2YgdGhlIExpY2Vuc2UgYXQKLy8KLy8gICAgICBodHRwOi8vd3d3LmFwYWNoZS5vcmcvbGljZW5zZXMvTElDRU5TRS0yLjAKLy8KLy8gVW5sZXNzIHJlcXVpcmVkIGJ5IGFwcGxpY2FibGUgbGF3IG9yIGFncmVlZCB0byBpbiB3cml0aW5nLCBzb2Z0d2FyZQovLyBkaXN0cmlidXRlZCB1bmRlciB0aGUgTGljZW5zZSBpcyBkaXN0cmlidXRlZCBvbiBhbiAiQVMgSVMiIEJBU0lTLAovLyBXSVRIT1VUIFdBUlJBTlRJRVMgT1IgQ09ORElUSU9OUyBPRiBBTlkgS0lORCwgZWl0aGVyIGV4cHJlc3Mgb3IgaW1wbGllZC4KLy8gU2VlIHRoZSBMaWNlbnNlIGZvciB0aGUgc3BlY2lmaWMgbGFuZ3VhZ2UgZ292ZXJuaW5nIHBlcm1pc3Npb25zIGFuZAovLyBsaW1pdGF0aW9ucyB1bmRlciB0aGUgTGljZW5zZS4KCi8qKgogKiBAZmlsZW92ZXJ2aWV3IEhlbHBlcnMgZm9yIGdvb2dsZS5jb2xhYiBQeXRob24gbW9kdWxlLgogKi8KKGZ1bmN0aW9uKHNjb3BlKSB7CmZ1bmN0aW9uIHNwYW4odGV4dCwgc3R5bGVBdHRyaWJ1dGVzID0ge30pIHsKICBjb25zdCBlbGVtZW50ID0gZG9jdW1lbnQuY3JlYXRlRWxlbWVudCgnc3BhbicpOwogIGVsZW1lbnQudGV4dENvbnRlbnQgPSB0ZXh0OwogIGZvciAoY29uc3Qga2V5IG9mIE9iamVjdC5rZXlzKHN0eWxlQXR0cmlidXRlcykpIHsKICAgIGVsZW1lbnQuc3R5bGVba2V5XSA9IHN0eWxlQXR0cmlidXRlc1trZXldOwogIH0KICByZXR1cm4gZWxlbWVudDsKfQoKLy8gTWF4IG51bWJlciBvZiBieXRlcyB3aGljaCB3aWxsIGJlIHVwbG9hZGVkIGF0IGEgdGltZS4KY29uc3QgTUFYX1BBWUxPQURfU0laRSA9IDEwMCAqIDEwMjQ7CgpmdW5jdGlvbiBfdXBsb2FkRmlsZXMoaW5wdXRJZCwgb3V0cHV0SWQpIHsKICBjb25zdCBzdGVwcyA9IHVwbG9hZEZpbGVzU3RlcChpbnB1dElkLCBvdXRwdXRJZCk7CiAgY29uc3Qgb3V0cHV0RWxlbWVudCA9IGRvY3VtZW50LmdldEVsZW1lbnRCeUlkKG91dHB1dElkKTsKICAvLyBDYWNoZSBzdGVwcyBvbiB0aGUgb3V0cHV0RWxlbWVudCB0byBtYWtlIGl0IGF2YWlsYWJsZSBmb3IgdGhlIG5leHQgY2FsbAogIC8vIHRvIHVwbG9hZEZpbGVzQ29udGludWUgZnJvbSBQeXRob24uCiAgb3V0cHV0RWxlbWVudC5zdGVwcyA9IHN0ZXBzOwoKICByZXR1cm4gX3VwbG9hZEZpbGVzQ29udGludWUob3V0cHV0SWQpOwp9CgovLyBUaGlzIGlzIHJvdWdobHkgYW4gYXN5bmMgZ2VuZXJhdG9yIChub3Qgc3VwcG9ydGVkIGluIHRoZSBicm93c2VyIHlldCksCi8vIHdoZXJlIHRoZXJlIGFyZSBtdWx0aXBsZSBhc3luY2hyb25vdXMgc3RlcHMgYW5kIHRoZSBQeXRob24gc2lkZSBpcyBnb2luZwovLyB0byBwb2xsIGZvciBjb21wbGV0aW9uIG9mIGVhY2ggc3RlcC4KLy8gVGhpcyB1c2VzIGEgUHJvbWlzZSB0byBibG9jayB0aGUgcHl0aG9uIHNpZGUgb24gY29tcGxldGlvbiBvZiBlYWNoIHN0ZXAsCi8vIHRoZW4gcGFzc2VzIHRoZSByZXN1bHQgb2YgdGhlIHByZXZpb3VzIHN0ZXAgYXMgdGhlIGlucHV0IHRvIHRoZSBuZXh0IHN0ZXAuCmZ1bmN0aW9uIF91cGxvYWRGaWxlc0NvbnRpbnVlKG91dHB1dElkKSB7CiAgY29uc3Qgb3V0cHV0RWxlbWVudCA9IGRvY3VtZW50LmdldEVsZW1lbnRCeUlkKG91dHB1dElkKTsKICBjb25zdCBzdGVwcyA9IG91dHB1dEVsZW1lbnQuc3RlcHM7CgogIGNvbnN0IG5leHQgPSBzdGVwcy5uZXh0KG91dHB1dEVsZW1lbnQubGFzdFByb21pc2VWYWx1ZSk7CiAgcmV0dXJuIFByb21pc2UucmVzb2x2ZShuZXh0LnZhbHVlLnByb21pc2UpLnRoZW4oKHZhbHVlKSA9PiB7CiAgICAvLyBDYWNoZSB0aGUgbGFzdCBwcm9taXNlIHZhbHVlIHRvIG1ha2UgaXQgYXZhaWxhYmxlIHRvIHRoZSBuZXh0CiAgICAvLyBzdGVwIG9mIHRoZSBnZW5lcmF0b3IuCiAgICBvdXRwdXRFbGVtZW50Lmxhc3RQcm9taXNlVmFsdWUgPSB2YWx1ZTsKICAgIHJldHVybiBuZXh0LnZhbHVlLnJlc3BvbnNlOwogIH0pOwp9CgovKioKICogR2VuZXJhdG9yIGZ1bmN0aW9uIHdoaWNoIGlzIGNhbGxlZCBiZXR3ZWVuIGVhY2ggYXN5bmMgc3RlcCBvZiB0aGUgdXBsb2FkCiAqIHByb2Nlc3MuCiAqIEBwYXJhbSB7c3RyaW5nfSBpbnB1dElkIEVsZW1lbnQgSUQgb2YgdGhlIGlucHV0IGZpbGUgcGlja2VyIGVsZW1lbnQuCiAqIEBwYXJhbSB7c3RyaW5nfSBvdXRwdXRJZCBFbGVtZW50IElEIG9mIHRoZSBvdXRwdXQgZGlzcGxheS4KICogQHJldHVybiB7IUl0ZXJhYmxlPCFPYmplY3Q+fSBJdGVyYWJsZSBvZiBuZXh0IHN0ZXBzLgogKi8KZnVuY3Rpb24qIHVwbG9hZEZpbGVzU3RlcChpbnB1dElkLCBvdXRwdXRJZCkgewogIGNvbnN0IGlucHV0RWxlbWVudCA9IGRvY3VtZW50LmdldEVsZW1lbnRCeUlkKGlucHV0SWQpOwogIGlucHV0RWxlbWVudC5kaXNhYmxlZCA9IGZhbHNlOwoKICBjb25zdCBvdXRwdXRFbGVtZW50ID0gZG9jdW1lbnQuZ2V0RWxlbWVudEJ5SWQob3V0cHV0SWQpOwogIG91dHB1dEVsZW1lbnQuaW5uZXJIVE1MID0gJyc7CgogIGNvbnN0IHBpY2tlZFByb21pc2UgPSBuZXcgUHJvbWlzZSgocmVzb2x2ZSkgPT4gewogICAgaW5wdXRFbGVtZW50LmFkZEV2ZW50TGlzdGVuZXIoJ2NoYW5nZScsIChlKSA9PiB7CiAgICAgIHJlc29sdmUoZS50YXJnZXQuZmlsZXMpOwogICAgfSk7CiAgfSk7CgogIGNvbnN0IGNhbmNlbCA9IGRvY3VtZW50LmNyZWF0ZUVsZW1lbnQoJ2J1dHRvbicpOwogIGlucHV0RWxlbWVudC5wYXJlbnRFbGVtZW50LmFwcGVuZENoaWxkKGNhbmNlbCk7CiAgY2FuY2VsLnRleHRDb250ZW50ID0gJ0NhbmNlbCB1cGxvYWQnOwogIGNvbnN0IGNhbmNlbFByb21pc2UgPSBuZXcgUHJvbWlzZSgocmVzb2x2ZSkgPT4gewogICAgY2FuY2VsLm9uY2xpY2sgPSAoKSA9PiB7CiAgICAgIHJlc29sdmUobnVsbCk7CiAgICB9OwogIH0pOwoKICAvLyBXYWl0IGZvciB0aGUgdXNlciB0byBwaWNrIHRoZSBmaWxlcy4KICBjb25zdCBmaWxlcyA9IHlpZWxkIHsKICAgIHByb21pc2U6IFByb21pc2UucmFjZShbcGlja2VkUHJvbWlzZSwgY2FuY2VsUHJvbWlzZV0pLAogICAgcmVzcG9uc2U6IHsKICAgICAgYWN0aW9uOiAnc3RhcnRpbmcnLAogICAgfQogIH07CgogIGNhbmNlbC5yZW1vdmUoKTsKCiAgLy8gRGlzYWJsZSB0aGUgaW5wdXQgZWxlbWVudCBzaW5jZSBmdXJ0aGVyIHBpY2tzIGFyZSBub3QgYWxsb3dlZC4KICBpbnB1dEVsZW1lbnQuZGlzYWJsZWQgPSB0cnVlOwoKICBpZiAoIWZpbGVzKSB7CiAgICByZXR1cm4gewogICAgICByZXNwb25zZTogewogICAgICAgIGFjdGlvbjogJ2NvbXBsZXRlJywKICAgICAgfQogICAgfTsKICB9CgogIGZvciAoY29uc3QgZmlsZSBvZiBmaWxlcykgewogICAgY29uc3QgbGkgPSBkb2N1bWVudC5jcmVhdGVFbGVtZW50KCdsaScpOwogICAgbGkuYXBwZW5kKHNwYW4oZmlsZS5uYW1lLCB7Zm9udFdlaWdodDogJ2JvbGQnfSkpOwogICAgbGkuYXBwZW5kKHNwYW4oCiAgICAgICAgYCgke2ZpbGUudHlwZSB8fCAnbi9hJ30pIC0gJHtmaWxlLnNpemV9IGJ5dGVzLCBgICsKICAgICAgICBgbGFzdCBtb2RpZmllZDogJHsKICAgICAgICAgICAgZmlsZS5sYXN0TW9kaWZpZWREYXRlID8gZmlsZS5sYXN0TW9kaWZpZWREYXRlLnRvTG9jYWxlRGF0ZVN0cmluZygpIDoKICAgICAgICAgICAgICAgICAgICAgICAgICAgICAgICAgICAgJ24vYSd9IC0gYCkpOwogICAgY29uc3QgcGVyY2VudCA9IHNwYW4oJzAlIGRvbmUnKTsKICAgIGxpLmFwcGVuZENoaWxkKHBlcmNlbnQpOwoKICAgIG91dHB1dEVsZW1lbnQuYXBwZW5kQ2hpbGQobGkpOwoKICAgIGNvbnN0IGZpbGVEYXRhUHJvbWlzZSA9IG5ldyBQcm9taXNlKChyZXNvbHZlKSA9PiB7CiAgICAgIGNvbnN0IHJlYWRlciA9IG5ldyBGaWxlUmVhZGVyKCk7CiAgICAgIHJlYWRlci5vbmxvYWQgPSAoZSkgPT4gewogICAgICAgIHJlc29sdmUoZS50YXJnZXQucmVzdWx0KTsKICAgICAgfTsKICAgICAgcmVhZGVyLnJlYWRBc0FycmF5QnVmZmVyKGZpbGUpOwogICAgfSk7CiAgICAvLyBXYWl0IGZvciB0aGUgZGF0YSB0byBiZSByZWFkeS4KICAgIGxldCBmaWxlRGF0YSA9IHlpZWxkIHsKICAgICAgcHJvbWlzZTogZmlsZURhdGFQcm9taXNlLAogICAgICByZXNwb25zZTogewogICAgICAgIGFjdGlvbjogJ2NvbnRpbnVlJywKICAgICAgfQogICAgfTsKCiAgICAvLyBVc2UgYSBjaHVua2VkIHNlbmRpbmcgdG8gYXZvaWQgbWVzc2FnZSBzaXplIGxpbWl0cy4gU2VlIGIvNjIxMTU2NjAuCiAgICBsZXQgcG9zaXRpb24gPSAwOwogICAgZG8gewogICAgICBjb25zdCBsZW5ndGggPSBNYXRoLm1pbihmaWxlRGF0YS5ieXRlTGVuZ3RoIC0gcG9zaXRpb24sIE1BWF9QQVlMT0FEX1NJWkUpOwogICAgICBjb25zdCBjaHVuayA9IG5ldyBVaW50OEFycmF5KGZpbGVEYXRhLCBwb3NpdGlvbiwgbGVuZ3RoKTsKICAgICAgcG9zaXRpb24gKz0gbGVuZ3RoOwoKICAgICAgY29uc3QgYmFzZTY0ID0gYnRvYShTdHJpbmcuZnJvbUNoYXJDb2RlLmFwcGx5KG51bGwsIGNodW5rKSk7CiAgICAgIHlpZWxkIHsKICAgICAgICByZXNwb25zZTogewogICAgICAgICAgYWN0aW9uOiAnYXBwZW5kJywKICAgICAgICAgIGZpbGU6IGZpbGUubmFtZSwKICAgICAgICAgIGRhdGE6IGJhc2U2NCwKICAgICAgICB9LAogICAgICB9OwoKICAgICAgbGV0IHBlcmNlbnREb25lID0gZmlsZURhdGEuYnl0ZUxlbmd0aCA9PT0gMCA/CiAgICAgICAgICAxMDAgOgogICAgICAgICAgTWF0aC5yb3VuZCgocG9zaXRpb24gLyBmaWxlRGF0YS5ieXRlTGVuZ3RoKSAqIDEwMCk7CiAgICAgIHBlcmNlbnQudGV4dENvbnRlbnQgPSBgJHtwZXJjZW50RG9uZX0lIGRvbmVgOwoKICAgIH0gd2hpbGUgKHBvc2l0aW9uIDwgZmlsZURhdGEuYnl0ZUxlbmd0aCk7CiAgfQoKICAvLyBBbGwgZG9uZS4KICB5aWVsZCB7CiAgICByZXNwb25zZTogewogICAgICBhY3Rpb246ICdjb21wbGV0ZScsCiAgICB9CiAgfTsKfQoKc2NvcGUuZ29vZ2xlID0gc2NvcGUuZ29vZ2xlIHx8IHt9OwpzY29wZS5nb29nbGUuY29sYWIgPSBzY29wZS5nb29nbGUuY29sYWIgfHwge307CnNjb3BlLmdvb2dsZS5jb2xhYi5fZmlsZXMgPSB7CiAgX3VwbG9hZEZpbGVzLAogIF91cGxvYWRGaWxlc0NvbnRpbnVlLAp9Owp9KShzZWxmKTsK",
              "ok": true,
              "headers": [
                [
                  "content-type",
                  "application/javascript"
                ]
              ],
              "status": 200,
              "status_text": ""
            }
          },
          "base_uri": "https://localhost:8080/",
          "height": 123
        },
        "id": "qD1VTT7u31R9",
        "outputId": "6209170f-f489-41b3-f600-625de94cf10e"
      },
      "source": [
        "from google.colab import files \n",
        "uploaded = files.upload() # upload the test as well as train data set \n",
        "\n",
        "print('\\n')\n",
        "for fn in uploaded.keys():\n",
        "    print('You uploaded file {name} with length {length} bytes'.format(\n",
        "        name = fn, length = len(uploaded[fn])\n",
        "    ))"
      ],
      "execution_count": null,
      "outputs": [
        {
          "output_type": "display_data",
          "data": {
            "text/html": [
              "\n",
              "     <input type=\"file\" id=\"files-10405db0-a2c8-4cfe-90e1-8c8d1e70f87e\" name=\"files[]\" multiple disabled\n",
              "        style=\"border:none\" />\n",
              "     <output id=\"result-10405db0-a2c8-4cfe-90e1-8c8d1e70f87e\">\n",
              "      Upload widget is only available when the cell has been executed in the\n",
              "      current browser session. Please rerun this cell to enable.\n",
              "      </output>\n",
              "      <script src=\"/nbextensions/google.colab/files.js\"></script> "
            ],
            "text/plain": [
              "<IPython.core.display.HTML object>"
            ]
          },
          "metadata": {
            "tags": []
          }
        },
        {
          "output_type": "stream",
          "text": [
            "Saving train.csv to train.csv\n",
            "\n",
            "\n",
            "You uploaded file train.csv with length 61194 bytes\n"
          ],
          "name": "stdout"
        }
      ]
    },
    {
      "cell_type": "code",
      "metadata": {
        "id": "iDyAeoPC4YvU"
      },
      "source": [
        "train = pd.read_csv('train.csv') "
      ],
      "execution_count": null,
      "outputs": []
    },
    {
      "cell_type": "markdown",
      "metadata": {
        "id": "47oZ3GTw76SZ"
      },
      "source": [
        "# **Data** **Exploration** **&** **Pre** **Processing**"
      ]
    },
    {
      "cell_type": "code",
      "metadata": {
        "colab": {
          "base_uri": "https://localhost:8080/",
          "height": 417
        },
        "id": "DawetDgh4tXY",
        "outputId": "0d198eff-a7d7-490e-c7ec-710b671ddb9f"
      },
      "source": [
        "display(train)"
      ],
      "execution_count": null,
      "outputs": [
        {
          "output_type": "display_data",
          "data": {
            "text/html": [
              "<div>\n",
              "<style scoped>\n",
              "    .dataframe tbody tr th:only-of-type {\n",
              "        vertical-align: middle;\n",
              "    }\n",
              "\n",
              "    .dataframe tbody tr th {\n",
              "        vertical-align: top;\n",
              "    }\n",
              "\n",
              "    .dataframe thead th {\n",
              "        text-align: right;\n",
              "    }\n",
              "</style>\n",
              "<table border=\"1\" class=\"dataframe\">\n",
              "  <thead>\n",
              "    <tr style=\"text-align: right;\">\n",
              "      <th></th>\n",
              "      <th>PassengerId</th>\n",
              "      <th>Survived</th>\n",
              "      <th>Pclass</th>\n",
              "      <th>Name</th>\n",
              "      <th>Sex</th>\n",
              "      <th>Age</th>\n",
              "      <th>SibSp</th>\n",
              "      <th>Parch</th>\n",
              "      <th>Ticket</th>\n",
              "      <th>Fare</th>\n",
              "      <th>Cabin</th>\n",
              "      <th>Embarked</th>\n",
              "    </tr>\n",
              "  </thead>\n",
              "  <tbody>\n",
              "    <tr>\n",
              "      <th>0</th>\n",
              "      <td>1</td>\n",
              "      <td>0</td>\n",
              "      <td>3</td>\n",
              "      <td>Braund, Mr. Owen Harris</td>\n",
              "      <td>male</td>\n",
              "      <td>22.0</td>\n",
              "      <td>1</td>\n",
              "      <td>0</td>\n",
              "      <td>A/5 21171</td>\n",
              "      <td>7.2500</td>\n",
              "      <td>NaN</td>\n",
              "      <td>S</td>\n",
              "    </tr>\n",
              "    <tr>\n",
              "      <th>1</th>\n",
              "      <td>2</td>\n",
              "      <td>1</td>\n",
              "      <td>1</td>\n",
              "      <td>Cumings, Mrs. John Bradley (Florence Briggs Th...</td>\n",
              "      <td>female</td>\n",
              "      <td>38.0</td>\n",
              "      <td>1</td>\n",
              "      <td>0</td>\n",
              "      <td>PC 17599</td>\n",
              "      <td>71.2833</td>\n",
              "      <td>C85</td>\n",
              "      <td>C</td>\n",
              "    </tr>\n",
              "    <tr>\n",
              "      <th>2</th>\n",
              "      <td>3</td>\n",
              "      <td>1</td>\n",
              "      <td>3</td>\n",
              "      <td>Heikkinen, Miss. Laina</td>\n",
              "      <td>female</td>\n",
              "      <td>26.0</td>\n",
              "      <td>0</td>\n",
              "      <td>0</td>\n",
              "      <td>STON/O2. 3101282</td>\n",
              "      <td>7.9250</td>\n",
              "      <td>NaN</td>\n",
              "      <td>S</td>\n",
              "    </tr>\n",
              "    <tr>\n",
              "      <th>3</th>\n",
              "      <td>4</td>\n",
              "      <td>1</td>\n",
              "      <td>1</td>\n",
              "      <td>Futrelle, Mrs. Jacques Heath (Lily May Peel)</td>\n",
              "      <td>female</td>\n",
              "      <td>35.0</td>\n",
              "      <td>1</td>\n",
              "      <td>0</td>\n",
              "      <td>113803</td>\n",
              "      <td>53.1000</td>\n",
              "      <td>C123</td>\n",
              "      <td>S</td>\n",
              "    </tr>\n",
              "    <tr>\n",
              "      <th>4</th>\n",
              "      <td>5</td>\n",
              "      <td>0</td>\n",
              "      <td>3</td>\n",
              "      <td>Allen, Mr. William Henry</td>\n",
              "      <td>male</td>\n",
              "      <td>35.0</td>\n",
              "      <td>0</td>\n",
              "      <td>0</td>\n",
              "      <td>373450</td>\n",
              "      <td>8.0500</td>\n",
              "      <td>NaN</td>\n",
              "      <td>S</td>\n",
              "    </tr>\n",
              "    <tr>\n",
              "      <th>...</th>\n",
              "      <td>...</td>\n",
              "      <td>...</td>\n",
              "      <td>...</td>\n",
              "      <td>...</td>\n",
              "      <td>...</td>\n",
              "      <td>...</td>\n",
              "      <td>...</td>\n",
              "      <td>...</td>\n",
              "      <td>...</td>\n",
              "      <td>...</td>\n",
              "      <td>...</td>\n",
              "      <td>...</td>\n",
              "    </tr>\n",
              "    <tr>\n",
              "      <th>886</th>\n",
              "      <td>887</td>\n",
              "      <td>0</td>\n",
              "      <td>2</td>\n",
              "      <td>Montvila, Rev. Juozas</td>\n",
              "      <td>male</td>\n",
              "      <td>27.0</td>\n",
              "      <td>0</td>\n",
              "      <td>0</td>\n",
              "      <td>211536</td>\n",
              "      <td>13.0000</td>\n",
              "      <td>NaN</td>\n",
              "      <td>S</td>\n",
              "    </tr>\n",
              "    <tr>\n",
              "      <th>887</th>\n",
              "      <td>888</td>\n",
              "      <td>1</td>\n",
              "      <td>1</td>\n",
              "      <td>Graham, Miss. Margaret Edith</td>\n",
              "      <td>female</td>\n",
              "      <td>19.0</td>\n",
              "      <td>0</td>\n",
              "      <td>0</td>\n",
              "      <td>112053</td>\n",
              "      <td>30.0000</td>\n",
              "      <td>B42</td>\n",
              "      <td>S</td>\n",
              "    </tr>\n",
              "    <tr>\n",
              "      <th>888</th>\n",
              "      <td>889</td>\n",
              "      <td>0</td>\n",
              "      <td>3</td>\n",
              "      <td>Johnston, Miss. Catherine Helen \"Carrie\"</td>\n",
              "      <td>female</td>\n",
              "      <td>NaN</td>\n",
              "      <td>1</td>\n",
              "      <td>2</td>\n",
              "      <td>W./C. 6607</td>\n",
              "      <td>23.4500</td>\n",
              "      <td>NaN</td>\n",
              "      <td>S</td>\n",
              "    </tr>\n",
              "    <tr>\n",
              "      <th>889</th>\n",
              "      <td>890</td>\n",
              "      <td>1</td>\n",
              "      <td>1</td>\n",
              "      <td>Behr, Mr. Karl Howell</td>\n",
              "      <td>male</td>\n",
              "      <td>26.0</td>\n",
              "      <td>0</td>\n",
              "      <td>0</td>\n",
              "      <td>111369</td>\n",
              "      <td>30.0000</td>\n",
              "      <td>C148</td>\n",
              "      <td>C</td>\n",
              "    </tr>\n",
              "    <tr>\n",
              "      <th>890</th>\n",
              "      <td>891</td>\n",
              "      <td>0</td>\n",
              "      <td>3</td>\n",
              "      <td>Dooley, Mr. Patrick</td>\n",
              "      <td>male</td>\n",
              "      <td>32.0</td>\n",
              "      <td>0</td>\n",
              "      <td>0</td>\n",
              "      <td>370376</td>\n",
              "      <td>7.7500</td>\n",
              "      <td>NaN</td>\n",
              "      <td>Q</td>\n",
              "    </tr>\n",
              "  </tbody>\n",
              "</table>\n",
              "<p>891 rows × 12 columns</p>\n",
              "</div>"
            ],
            "text/plain": [
              "     PassengerId  Survived  Pclass  ...     Fare Cabin  Embarked\n",
              "0              1         0       3  ...   7.2500   NaN         S\n",
              "1              2         1       1  ...  71.2833   C85         C\n",
              "2              3         1       3  ...   7.9250   NaN         S\n",
              "3              4         1       1  ...  53.1000  C123         S\n",
              "4              5         0       3  ...   8.0500   NaN         S\n",
              "..           ...       ...     ...  ...      ...   ...       ...\n",
              "886          887         0       2  ...  13.0000   NaN         S\n",
              "887          888         1       1  ...  30.0000   B42         S\n",
              "888          889         0       3  ...  23.4500   NaN         S\n",
              "889          890         1       1  ...  30.0000  C148         C\n",
              "890          891         0       3  ...   7.7500   NaN         Q\n",
              "\n",
              "[891 rows x 12 columns]"
            ]
          },
          "metadata": {
            "tags": []
          }
        }
      ]
    },
    {
      "cell_type": "markdown",
      "metadata": {
        "id": "050zd0ad8GJ7"
      },
      "source": [
        "**Observation:**\n",
        "1.   Since the survival of a passanger won't depend on the name and passanger id of the passanger hence we will drop these columns\n",
        "2.   Ticket data needs proper cleaning as it contains strings and numerical values both \n",
        "\n",
        "\n"
      ]
    },
    {
      "cell_type": "code",
      "metadata": {
        "id": "dtep5Kvh87AO"
      },
      "source": [
        "train2 = train.drop(['PassengerId', 'Name'], axis='columns')"
      ],
      "execution_count": null,
      "outputs": []
    },
    {
      "cell_type": "code",
      "metadata": {
        "colab": {
          "base_uri": "https://localhost:8080/"
        },
        "id": "j_K2Yqou5S_s",
        "outputId": "f4f6e76f-041b-44b4-e42a-2791520795d3"
      },
      "source": [
        "for col in train2.columns.values: # For each column\n",
        "\n",
        "    unique_values = pd.unique(train2[col].astype(str)) # Create a list of unique values \n",
        "    print('\\n' + col + ' is of data type ' + str(train2[col].dtypes) + ', has ' + str(len(unique_values)) + ' unique values, and ' + str(train2[col].isnull().sum()) + ' null values')\n",
        "\n",
        "    if len(unique_values) < 10: # If the column have less than 10 unique then print them\n",
        "\n",
        "        list_str = ''\n",
        "\n",
        "        for n_value in range(0, len(unique_values)):\n",
        "            list_str = list_str + str(sorted(unique_values)[n_value]) + ', '\n",
        "\n",
        "        print('    These are: ' + list_str[0:len(list_str)-2])"
      ],
      "execution_count": null,
      "outputs": [
        {
          "output_type": "stream",
          "text": [
            "\n",
            "Survived is of data type int64, has 2 unique values, and 0 null values\n",
            "    These are: 0, 1\n",
            "\n",
            "Pclass is of data type int64, has 3 unique values, and 0 null values\n",
            "    These are: 1, 2, 3\n",
            "\n",
            "Sex is of data type object, has 2 unique values, and 0 null values\n",
            "    These are: female, male\n",
            "\n",
            "Age is of data type float64, has 89 unique values, and 177 null values\n",
            "\n",
            "SibSp is of data type int64, has 7 unique values, and 0 null values\n",
            "    These are: 0, 1, 2, 3, 4, 5, 8\n",
            "\n",
            "Parch is of data type int64, has 7 unique values, and 0 null values\n",
            "    These are: 0, 1, 2, 3, 4, 5, 6\n",
            "\n",
            "Ticket is of data type object, has 681 unique values, and 0 null values\n",
            "\n",
            "Fare is of data type float64, has 248 unique values, and 0 null values\n",
            "\n",
            "Cabin is of data type object, has 148 unique values, and 687 null values\n",
            "\n",
            "Embarked is of data type object, has 4 unique values, and 2 null values\n",
            "    These are: C, Q, S, nan\n"
          ],
          "name": "stdout"
        }
      ]
    },
    {
      "cell_type": "markdown",
      "metadata": {
        "id": "x-Gm4Lja9cZe"
      },
      "source": [
        "**Observation:**\n",
        "1.   Survived column contains only two values (1- Survived, and 0- Not Survived)\n",
        "2.   Pclass column contains only three ordinal values (which are 1, 2, and 3)\n",
        "3.   As sex column contains categorical values hence it needs to be One Hot Encoded\n",
        "4.   177 values are missing from age column hence we need to replace them with some appropriate value \n",
        "5.   Ticket data needs proper cleaning and processing as it contains strings and numerical values both\n",
        "6.   Cabin data contains a lot of missing values which can be concluded as these passenger did not have a Cabin. I will mark this column later as: \n",
        "(1 - Passanger had a cabin, 0 - Passanger didn't have a cabin). If doing so doesn't work for our model we may drop this column as well\n",
        "7.   Embarked data contains categorical data hence it needs to be One Hot Encoded and missing values will be replaced with meadian"
      ]
    },
    {
      "cell_type": "markdown",
      "metadata": {
        "id": "qFYm21BHfXnW"
      },
      "source": [
        "# Tackling ticket data "
      ]
    },
    {
      "cell_type": "code",
      "metadata": {
        "colab": {
          "base_uri": "https://localhost:8080/",
          "height": 218
        },
        "id": "Kv2gahk1BKn-",
        "outputId": "651be9f7-2e19-4b40-a798-84f97e704c64"
      },
      "source": [
        "ticket_stats = train2['Ticket'].value_counts(ascending=False)\n",
        "display(ticket_stats)"
      ],
      "execution_count": null,
      "outputs": [
        {
          "output_type": "display_data",
          "data": {
            "text/plain": [
              "1601        7\n",
              "CA. 2343    7\n",
              "347082      7\n",
              "347088      6\n",
              "3101295     6\n",
              "           ..\n",
              "349222      1\n",
              "13509       1\n",
              "2677        1\n",
              "349223      1\n",
              "236853      1\n",
              "Name: Ticket, Length: 681, dtype: int64"
            ]
          },
          "metadata": {
            "tags": []
          }
        }
      ]
    },
    {
      "cell_type": "code",
      "metadata": {
        "colab": {
          "base_uri": "https://localhost:8080/",
          "height": 296
        },
        "id": "LCbctJBqv_gk",
        "outputId": "9945d029-0f57-439c-f508-d69f3dd5f33f"
      },
      "source": [
        "plt.hist(ticket_stats)\n",
        "plt.xlabel('Unique value count')\n",
        "plt.ylabel('Counts')"
      ],
      "execution_count": null,
      "outputs": [
        {
          "output_type": "execute_result",
          "data": {
            "text/plain": [
              "Text(0, 0.5, 'Counts')"
            ]
          },
          "metadata": {
            "tags": []
          },
          "execution_count": 11
        },
        {
          "output_type": "display_data",
          "data": {
            "image/png": "[encoded data removed]",
            "text/plain": [
              "<Figure size 432x288 with 1 Axes>"
            ]
          },
          "metadata": {
            "tags": [],
            "needs_background": "light"
          }
        }
      ]
    },
    {
      "cell_type": "markdown",
      "metadata": {
        "id": "W1YAaNHHKxkB"
      },
      "source": [
        "**Observation:**\n",
        "1.   Ticket feature has large number of random unique values. Some of them are strings some are nuerical. \n",
        "2.   Some of the ticket values repeat 2 to 7 times but they are very less in number. Ticket value does not seem to contain to any relevent information. Hence we will drop this feature. \n"
      ]
    },
    {
      "cell_type": "code",
      "metadata": {
        "id": "3pcb_MtTLKbd"
      },
      "source": [
        "train3 = train2.drop(['Ticket'], axis='columns') # Droping Ticket feature "
      ],
      "execution_count": null,
      "outputs": []
    },
    {
      "cell_type": "markdown",
      "metadata": {
        "id": "Z0GxL2M-fmll"
      },
      "source": [
        "# Pre processing of data"
      ]
    },
    {
      "cell_type": "code",
      "metadata": {
        "id": "CAAoJAf8MmVq"
      },
      "source": [
        "train3['Cabin'] = train3['Cabin'].fillna(0) # Replacing all the null values with 0\n",
        "train3['Cabin'] = train3['Cabin'].apply(lambda x: 1 if x != 0 else x) # Replacing values other than null values with 1"
      ],
      "execution_count": null,
      "outputs": []
    },
    {
      "cell_type": "code",
      "metadata": {
        "colab": {
          "base_uri": "https://localhost:8080/",
          "height": 296
        },
        "id": "chbydgqiVMeM",
        "outputId": "2484b503-a732-42cf-c46b-c2c06d48db6d"
      },
      "source": [
        "from sklearn.metrics import confusion_matrix\n",
        "cm = confusion_matrix(train3.Survived, train3.Cabin)\n",
        "\n",
        "# Plotting covariance matrix to understand the relation between survived passanger and Cabin feature \n",
        "import seaborn as sn\n",
        "plt.figure(figsize= (4,4))\n",
        "sn.heatmap(cm, annot=True, cbar= True) \n",
        "plt.xlabel('Cabin')\n",
        "plt.ylabel('Survived')"
      ],
      "execution_count": null,
      "outputs": [
        {
          "output_type": "execute_result",
          "data": {
            "text/plain": [
              "Text(15.0, 0.5, 'Survived')"
            ]
          },
          "metadata": {
            "tags": []
          },
          "execution_count": 14
        },
        {
          "output_type": "display_data",
          "data": {
            "image/png": "[encoded data removed]",
            "text/plain": [
              "<Figure size 288x288 with 2 Axes>"
            ]
          },
          "metadata": {
            "tags": [],
            "needs_background": "light"
          }
        }
      ]
    },
    {
      "cell_type": "markdown",
      "metadata": {
        "id": "pJto5GzAL2yl"
      },
      "source": [
        "**Observation:**\n",
        "1.   Matrix clearly shows that most of the passangers having cabin survived (about 140+ passangers survived and 68 didn't) \n",
        "2.   Most of the passangers not having cabin died (about 480+ passangers died but only 210+ survived)\n",
        "3.   As this feature contains information related to truth value hence this columns shouldn't be dropped despite having lots of null values.\n",
        "\n"
      ]
    },
    {
      "cell_type": "code",
      "metadata": {
        "colab": {
          "base_uri": "https://localhost:8080/"
        },
        "id": "uFeuiYFsHmlA",
        "outputId": "e924cfd5-6782-45d9-8294-133ec2dd58a7"
      },
      "source": [
        "median_male_age = train3.Age[(train3['Sex']=='male')].median()\n",
        "print('Median age of male passangers is:', median_male_age)\n",
        "median_female_age = train3.Age[(train3['Sex']=='female')].median()\n",
        "print('Median age of female passangers is:',median_female_age)"
      ],
      "execution_count": null,
      "outputs": [
        {
          "output_type": "stream",
          "text": [
            "Median age of male passangers is: 29.0\n",
            "Median age of female passangers is: 27.0\n"
          ],
          "name": "stdout"
        }
      ]
    },
    {
      "cell_type": "markdown",
      "metadata": {
        "id": "dOHVgqydIICo"
      },
      "source": [
        "**Observation:**\n",
        "1.  Median age of the all males is 29 and males mode age of all the female is also 27.\n",
        "2.   We can apply the same concept in other features as well (for eg. in Cabin) \n",
        "3.   This type of analysis would help us in assigning a better approximate of the age then just assigning such a large number of missing data points by a single value"
      ]
    },
    {
      "cell_type": "code",
      "metadata": {
        "colab": {
          "base_uri": "https://localhost:8080/"
        },
        "id": "Oo86DR5Boe6J",
        "outputId": "6d4644ca-3558-46e6-ccc1-6efe90278e99"
      },
      "source": [
        "median_cabin_age = train3.Age[(train3['Cabin']==1)].median()\n",
        "print('Median age of a passangers having a cabin is:',median_cabin_age)\n",
        "median_non_cabin_age = train3.Age[(train3['Cabin']==0)].median()\n",
        "print('Median age of a passangers not having a cabin is:',median_non_cabin_age)"
      ],
      "execution_count": null,
      "outputs": [
        {
          "output_type": "stream",
          "text": [
            "Median age of a passangers having a cabin is: 36.0\n",
            "Median age of a passangers not having a cabin is: 26.0\n"
          ],
          "name": "stdout"
        }
      ]
    },
    {
      "cell_type": "markdown",
      "metadata": {
        "id": "7g574v5BcNK7"
      },
      "source": [
        "**Observation:**\n",
        "1.   People having a cabin has higher median age than those who do not have a cabin\n",
        "2.   Hence we will replace null values of the Age column with two values (36 whenever a person has a Cabin and 26 Otherwise)\n",
        "\n"
      ]
    },
    {
      "cell_type": "code",
      "metadata": {
        "id": "6uXDvIV7uyoR"
      },
      "source": [
        "# Filling 2 null values in Embarked column\n",
        "most_common_val = train3['Embarked'].mode()\n",
        "train3['Embarked'] = train3['Embarked'].fillna(most_common_val[0])"
      ],
      "execution_count": null,
      "outputs": []
    },
    {
      "cell_type": "code",
      "metadata": {
        "colab": {
          "base_uri": "https://localhost:8080/"
        },
        "id": "9iec_Nc8QS1M",
        "outputId": "dea2e024-95d7-4552-9d57-6134aa3262fb"
      },
      "source": [
        "for col in train3.columns.values: # For each column\n",
        "\n",
        "    unique_values = pd.unique(train3[col].astype(str)) # Create a list of unique values \n",
        "    print('\\n' + col + ' is of data type ' + str(train3[col].dtypes) + ', has ' + str(len(unique_values)) + ' unique values, and ' + str(train3[col].isnull().sum()) + ' null values')\n",
        "\n",
        "    if len(unique_values) < 10: # If the column have less than 10 unique then print them\n",
        "\n",
        "        list_str = ''\n",
        "\n",
        "        for n_value in range(0, len(unique_values)):\n",
        "            list_str = list_str + str(sorted(unique_values)[n_value]) + ', '\n",
        "\n",
        "        print('    These are: ' + list_str[0:len(list_str)-2])"
      ],
      "execution_count": null,
      "outputs": [
        {
          "output_type": "stream",
          "text": [
            "\n",
            "Survived is of data type int64, has 2 unique values, and 0 null values\n",
            "    These are: 0, 1\n",
            "\n",
            "Pclass is of data type int64, has 3 unique values, and 0 null values\n",
            "    These are: 1, 2, 3\n",
            "\n",
            "Sex is of data type object, has 2 unique values, and 0 null values\n",
            "    These are: female, male\n",
            "\n",
            "Age is of data type float64, has 89 unique values, and 177 null values\n",
            "\n",
            "SibSp is of data type int64, has 7 unique values, and 0 null values\n",
            "    These are: 0, 1, 2, 3, 4, 5, 8\n",
            "\n",
            "Parch is of data type int64, has 7 unique values, and 0 null values\n",
            "    These are: 0, 1, 2, 3, 4, 5, 6\n",
            "\n",
            "Fare is of data type float64, has 248 unique values, and 0 null values\n",
            "\n",
            "Cabin is of data type int64, has 2 unique values, and 0 null values\n",
            "    These are: 0, 1\n",
            "\n",
            "Embarked is of data type object, has 3 unique values, and 0 null values\n",
            "    These are: C, Q, S\n"
          ],
          "name": "stdout"
        }
      ]
    },
    {
      "cell_type": "markdown",
      "metadata": {
        "id": "8yZXpYrjQt7K"
      },
      "source": [
        "**Observation:**\n",
        "1.  Only Age feature has missing values. Since too many data values of age data are missing I will fill them after spliting data into train test to avoid any bias in the model. (This spliting has been done just to check accuracy of the model. Later the Model has been trained on whole training dataset and tested over provided testing data ) \n",
        "2.  We are still not getting much idea about the distribution of fare. We need get some more insight of this feature. "
      ]
    },
    {
      "cell_type": "code",
      "metadata": {
        "id": "nbkY5sT2zgdS"
      },
      "source": [
        "# defining a function to plot histograms in nice order\n",
        "def get_column_histograms(df):\n",
        "  num_cols_df = len(df.columns.values)\n",
        "  n_rows_in_hist = int(np.ceil( np.sqrt(num_cols_df) ))\n",
        "  while num_cols_df % n_rows_in_hist is not 0:\n",
        "    n_rows_in_hist -= 1\n",
        "  # on exiting the loop, n_rows_in_hist is a factor of num_cols_df\n",
        "  n_cols_in_hist = num_cols_df/ n_rows_in_hist\n",
        "  count = 1\n",
        "  for col in df.columns.values:\n",
        "    plt.subplot(n_rows_in_hist, n_cols_in_hist, count)\n",
        "    plt.tight_layout()\n",
        "    plt.hist(df[col])\n",
        "    plt.xlabel(col)\n",
        "    plt.ylabel(\"counts\")\n",
        "    count = count + 1\n",
        "  plt.show()"
      ],
      "execution_count": null,
      "outputs": []
    },
    {
      "cell_type": "code",
      "metadata": {
        "id": "yXDbCUdWHuTX"
      },
      "source": [
        "survived_data = train3[(train3['Survived']==1)] # Data of survived passangers only \n",
        "not_survived_data = train3[~(train3['Survived']==1)] # Data of died passangers only "
      ],
      "execution_count": null,
      "outputs": []
    },
    {
      "cell_type": "code",
      "metadata": {
        "colab": {
          "base_uri": "https://localhost:8080/",
          "height": 627
        },
        "id": "fe1DmemlzldV",
        "outputId": "2660a5ec-b9cd-4a0a-def7-c7bc49d1e276"
      },
      "source": [
        "print('Histograms of the passangers who survived')\n",
        "get_column_histograms(survived_data) # Histogram of survived passangers data \n",
        "\n",
        "print('\\nHistograms of the passangers who did not survive')\n",
        "get_column_histograms(not_survived_data) # Histogram of died passangers data  "
      ],
      "execution_count": null,
      "outputs": [
        {
          "output_type": "stream",
          "text": [
            "Histograms of the passangers who survived\n"
          ],
          "name": "stdout"
        },
        {
          "output_type": "display_data",
          "data": {
            "image/png": "[encoded data removed]",
            "text/plain": [
              "<Figure size 432x288 with 9 Axes>"
            ]
          },
          "metadata": {
            "tags": [],
            "needs_background": "light"
          }
        },
        {
          "output_type": "stream",
          "text": [
            "\n",
            "Histograms of the passangers who did not survive\n"
          ],
          "name": "stdout"
        },
        {
          "output_type": "display_data",
          "data": {
            "image/png": "[encoded data removed]",
            "text/plain": [
              "<Figure size 432x288 with 9 Axes>"
            ]
          },
          "metadata": {
            "tags": [],
            "needs_background": "light"
          }
        }
      ]
    },
    {
      "cell_type": "markdown",
      "metadata": {
        "id": "pZYAHOrvUJNm"
      },
      "source": [
        "**Observation on comparing the two histograms:**\n",
        "1.   More females survived than males whereas much more males died than females (i.e. This feature is helpul in our prediction modelling)\n",
        "2.   Having a cabin also shows the higher survival rate than not having a cabin \n",
        "3.   People who embarked from 'S' had lower chance of survival\n",
        "5.   Passangers who paid higher fares had higher chances of survival\n",
        "4.   It seems that this data contains enogh information to make a prediction model using this data \n",
        "\n"
      ]
    },
    {
      "cell_type": "code",
      "metadata": {
        "colab": {
          "base_uri": "https://localhost:8080/",
          "height": 485
        },
        "id": "4QcBPC6Wg5IK",
        "outputId": "60d33963-8ddf-4129-d20d-50e982daf233"
      },
      "source": [
        "grid = sn.FacetGrid(train3, col='Survived', row='Pclass', size=2.2, aspect=1.6)\n",
        "grid.map(plt.hist, 'Age', alpha=1, bins=20)\n",
        "grid.add_legend();"
      ],
      "execution_count": null,
      "outputs": [
        {
          "output_type": "display_data",
          "data": {
            "image/png": "[encoded data removed]",
            "text/plain": [
              "<Figure size 514.88x475.2 with 6 Axes>"
            ]
          },
          "metadata": {
            "tags": [],
            "needs_background": "light"
          }
        }
      ]
    },
    {
      "cell_type": "markdown",
      "metadata": {
        "id": "EzaT3dGfscbc"
      },
      "source": [
        "**Obseravation:**\n",
        "1.  Most of the passangers from Pclass3 between 20-40 years of age did not survive "
      ]
    },
    {
      "cell_type": "code",
      "metadata": {
        "colab": {
          "base_uri": "https://localhost:8080/",
          "height": 225
        },
        "id": "aU_FSNP9j2sj",
        "outputId": "e1da6682-0ec4-4506-e692-6eb6084d8ac8"
      },
      "source": [
        "grid = sn.FacetGrid(train3, col='Pclass', hue='Survived')\n",
        "grid.map(plt.hist, 'Age', alpha=0.7, bins=20)\n",
        "grid.add_legend();"
      ],
      "execution_count": null,
      "outputs": [
        {
          "output_type": "display_data",
          "data": {
            "image/png": "[encoded data removed]",
            "text/plain": [
              "<Figure size 699.875x216 with 3 Axes>"
            ]
          },
          "metadata": {
            "tags": [],
            "needs_background": "light"
          }
        }
      ]
    },
    {
      "cell_type": "code",
      "metadata": {
        "colab": {
          "base_uri": "https://localhost:8080/",
          "height": 400
        },
        "id": "gNSgjYEWHLxF",
        "outputId": "c8444bf6-fbdb-4615-dadb-057f3c368c9e"
      },
      "source": [
        "# Countplot\n",
        "sn.catplot(x ='Embarked', hue ='Survived', \n",
        "kind ='count', col ='Pclass', data = train3)"
      ],
      "execution_count": null,
      "outputs": [
        {
          "output_type": "execute_result",
          "data": {
            "text/plain": [
              "<seaborn.axisgrid.FacetGrid at 0x7f0f00bcac50>"
            ]
          },
          "metadata": {
            "tags": []
          },
          "execution_count": 24
        },
        {
          "output_type": "display_data",
          "data": {
            "image/png": "[encoded data removed]",
            "text/plain": [
              "<Figure size 1131.88x360 with 3 Axes>"
            ]
          },
          "metadata": {
            "tags": [],
            "needs_background": "light"
          }
        }
      ]
    },
    {
      "cell_type": "code",
      "metadata": {
        "colab": {
          "base_uri": "https://localhost:8080/",
          "height": 296
        },
        "id": "9detPP1sFJYx",
        "outputId": "45c3ac27-da88-4c9e-da76-b28455e4b729"
      },
      "source": [
        "# Violinplot Displays distribution of data \n",
        "# across all levels of a category.\n",
        "sn.violinplot(x =\"Pclass\", y =\"Age\", hue =\"Survived\", data = train3, split = True)"
      ],
      "execution_count": null,
      "outputs": [
        {
          "output_type": "execute_result",
          "data": {
            "text/plain": [
              "<matplotlib.axes._subplots.AxesSubplot at 0x7f0f00e76950>"
            ]
          },
          "metadata": {
            "tags": []
          },
          "execution_count": 25
        },
        {
          "output_type": "display_data",
          "data": {
            "image/png": "[encoded data removed]",
            "text/plain": [
              "<Figure size 432x288 with 1 Axes>"
            ]
          },
          "metadata": {
            "tags": [],
            "needs_background": "light"
          }
        }
      ]
    },
    {
      "cell_type": "markdown",
      "metadata": {
        "id": "oiotxCMvkK3w"
      },
      "source": [
        "**Observations:**\n",
        "1.   Most of the passangers from Pclass 3 did not survive\n",
        "2.   In Pclass 1 more people were there who survived \n",
        "3.   This analysis shows that better class people had higher chances of surviving which seems quite possible\n",
        "\n"
      ]
    },
    {
      "cell_type": "markdown",
      "metadata": {
        "id": "6MSL7fXQrfDH"
      },
      "source": [
        "**Observations:**\n",
        "1. Chances of survival of women who embarked from 'S' and 'Q' is higher than males who embarked from 'S' and 'Q'\n",
        "2. Chances of survival of men who embarked from 'C' is higher than males who embarked from 'C'"
      ]
    },
    {
      "cell_type": "code",
      "metadata": {
        "colab": {
          "base_uri": "https://localhost:8080/",
          "height": 225
        },
        "id": "uVXAOULZvLZ4",
        "outputId": "965e5b59-f115-42b1-e5ce-4e820fc36c61"
      },
      "source": [
        "grid = sn.FacetGrid(train3, col='Sex', hue='Survived')\n",
        "grid.map(plt.hist, 'Age', alpha=0.7, bins=20)\n",
        "grid.add_legend();"
      ],
      "execution_count": null,
      "outputs": [
        {
          "output_type": "display_data",
          "data": {
            "image/png": "[encoded data removed]",
            "text/plain": [
              "<Figure size 483.875x216 with 2 Axes>"
            ]
          },
          "metadata": {
            "tags": [],
            "needs_background": "light"
          }
        }
      ]
    },
    {
      "cell_type": "code",
      "metadata": {
        "colab": {
          "base_uri": "https://localhost:8080/",
          "height": 400
        },
        "id": "Ja8CZKEJEHvt",
        "outputId": "cea50b8a-f68c-4313-dc84-87ee4c98195e"
      },
      "source": [
        "# Countplot\n",
        "sn.catplot(x =\"Sex\", hue =\"Survived\", \n",
        "kind =\"count\", data = train3)"
      ],
      "execution_count": null,
      "outputs": [
        {
          "output_type": "execute_result",
          "data": {
            "text/plain": [
              "<seaborn.axisgrid.FacetGrid at 0x7f0f00bd4b50>"
            ]
          },
          "metadata": {
            "tags": []
          },
          "execution_count": 27
        },
        {
          "output_type": "display_data",
          "data": {
            "image/png": "[encoded data removed]",
            "text/plain": [
              "<Figure size 411.875x360 with 1 Axes>"
            ]
          },
          "metadata": {
            "tags": [],
            "needs_background": "light"
          }
        }
      ]
    },
    {
      "cell_type": "code",
      "metadata": {
        "colab": {
          "base_uri": "https://localhost:8080/",
          "height": 296
        },
        "id": "-Tdzm4mHFBI5",
        "outputId": "177f00a7-4cc9-479d-c939-623dd4fdea05"
      },
      "source": [
        "# Violinplot Displays distribution of data \n",
        "# across all levels of a category.\n",
        "sn.violinplot(x =\"Sex\", y =\"Age\", hue =\"Survived\", data = train3, split = True)"
      ],
      "execution_count": null,
      "outputs": [
        {
          "output_type": "execute_result",
          "data": {
            "text/plain": [
              "<matplotlib.axes._subplots.AxesSubplot at 0x7f0f00a50e50>"
            ]
          },
          "metadata": {
            "tags": []
          },
          "execution_count": 28
        },
        {
          "output_type": "display_data",
          "data": {
            "image/png": "[encoded data removed]",
            "text/plain": [
              "<Figure size 432x288 with 1 Axes>"
            ]
          },
          "metadata": {
            "tags": [],
            "needs_background": "light"
          }
        }
      ]
    },
    {
      "cell_type": "markdown",
      "metadata": {
        "id": "fIktLC0Cxy73"
      },
      "source": [
        "**Observation:**\n",
        "1. Females had much higher probability of survival than male passangers"
      ]
    },
    {
      "cell_type": "code",
      "metadata": {
        "colab": {
          "base_uri": "https://localhost:8080/",
          "height": 225
        },
        "id": "2XDyVuW3GO_f",
        "outputId": "b6564bd4-c716-4224-bb29-22befde0f48f"
      },
      "source": [
        "grid = sn.FacetGrid(train3, col='Embarked', hue='Survived')\n",
        "grid.map(plt.hist, 'Age', alpha=0.7, bins=20)\n",
        "grid.add_legend();"
      ],
      "execution_count": null,
      "outputs": [
        {
          "output_type": "display_data",
          "data": {
            "image/png": "[encoded data removed]",
            "text/plain": [
              "<Figure size 699.875x216 with 3 Axes>"
            ]
          },
          "metadata": {
            "tags": [],
            "needs_background": "light"
          }
        }
      ]
    },
    {
      "cell_type": "code",
      "metadata": {
        "colab": {
          "base_uri": "https://localhost:8080/",
          "height": 296
        },
        "id": "NS_Ekw6sGxEC",
        "outputId": "18758cc9-7d8b-4dae-ad90-2f55fb2688dd"
      },
      "source": [
        "sn.violinplot(x =\"Embarked\", y =\"Age\", hue =\"Survived\", data = train3, split = True)"
      ],
      "execution_count": null,
      "outputs": [
        {
          "output_type": "execute_result",
          "data": {
            "text/plain": [
              "<matplotlib.axes._subplots.AxesSubplot at 0x7f0f00abe490>"
            ]
          },
          "metadata": {
            "tags": []
          },
          "execution_count": 30
        },
        {
          "output_type": "display_data",
          "data": {
            "image/png": "[encoded data removed]",
            "text/plain": [
              "<Figure size 432x288 with 1 Axes>"
            ]
          },
          "metadata": {
            "tags": [],
            "needs_background": "light"
          }
        }
      ]
    },
    {
      "cell_type": "markdown",
      "metadata": {
        "id": "RJWTpcfkc3Of"
      },
      "source": [
        "# Removing outliers "
      ]
    },
    {
      "cell_type": "code",
      "metadata": {
        "colab": {
          "base_uri": "https://localhost:8080/",
          "height": 400
        },
        "id": "teBLnpIXHdoG",
        "outputId": "36e10211-35fa-4537-db11-92b69c3b8d12"
      },
      "source": [
        "# Countplot\n",
        "sn.catplot(x ='Sex', hue ='Survived', \n",
        "kind ='count', col ='Embarked', data = train3)"
      ],
      "execution_count": null,
      "outputs": [
        {
          "output_type": "execute_result",
          "data": {
            "text/plain": [
              "<seaborn.axisgrid.FacetGrid at 0x7f0f006a8fd0>"
            ]
          },
          "metadata": {
            "tags": []
          },
          "execution_count": 31
        },
        {
          "output_type": "display_data",
          "data": {
            "image/png": "[encoded data removed]",
            "text/plain": [
              "<Figure size 1131.88x360 with 3 Axes>"
            ]
          },
          "metadata": {
            "tags": [],
            "needs_background": "light"
          }
        }
      ]
    },
    {
      "cell_type": "code",
      "metadata": {
        "colab": {
          "base_uri": "https://localhost:8080/"
        },
        "id": "ADo_DIAhSbId",
        "outputId": "33b02bd2-ebd1-446b-f73f-a93e4fb41df2"
      },
      "source": [
        "print(train3['Fare'].describe()) # only this feature contains data values as ratio, hence I will check for this only"
      ],
      "execution_count": null,
      "outputs": [
        {
          "output_type": "stream",
          "text": [
            "count    891.000000\n",
            "mean      32.204208\n",
            "std       49.693429\n",
            "min        0.000000\n",
            "25%        7.910400\n",
            "50%       14.454200\n",
            "75%       31.000000\n",
            "max      512.329200\n",
            "Name: Fare, dtype: float64\n"
          ],
          "name": "stdout"
        }
      ]
    },
    {
      "cell_type": "code",
      "metadata": {
        "colab": {
          "base_uri": "https://localhost:8080/",
          "height": 301
        },
        "id": "TSwMnDFCq8tF",
        "outputId": "43627fdb-0e47-4226-fe43-db40f1636cde"
      },
      "source": [
        "train3.boxplot(by= 'Survived', column= 'Fare', grid= True)\n",
        "plt.ylabel('Fare')\n",
        "plt.title(' ')\n",
        "plt.show()"
      ],
      "execution_count": null,
      "outputs": [
        {
          "output_type": "display_data",
          "data": {
            "image/png": "[encoded data removed]",
            "text/plain": [
              "<Figure size 432x288 with 1 Axes>"
            ]
          },
          "metadata": {
            "tags": [],
            "needs_background": "light"
          }
        }
      ]
    },
    {
      "cell_type": "code",
      "metadata": {
        "colab": {
          "base_uri": "https://localhost:8080/",
          "height": 297
        },
        "id": "wb8whsMnIE6F",
        "outputId": "a7c2d2b7-fd3d-4fb6-e7e0-a4cb04b68da3"
      },
      "source": [
        "# Divide Fare into 4 bins\n",
        "train3['Fare_Range'] = pd.qcut(train3['Fare'], 4)\n",
        "  \n",
        "# Barplot - Shows approximate values based \n",
        "# on the height of bars.\n",
        "sn.barplot(x ='Fare_Range', y ='Survived', data = train3)"
      ],
      "execution_count": null,
      "outputs": [
        {
          "output_type": "execute_result",
          "data": {
            "text/plain": [
              "<matplotlib.axes._subplots.AxesSubplot at 0x7f0efe558410>"
            ]
          },
          "metadata": {
            "tags": []
          },
          "execution_count": 34
        },
        {
          "output_type": "display_data",
          "data": {
            "image/png": "[encoded data removed]",
            "text/plain": [
              "<Figure size 432x288 with 1 Axes>"
            ]
          },
          "metadata": {
            "tags": [],
            "needs_background": "light"
          }
        }
      ]
    },
    {
      "cell_type": "code",
      "metadata": {
        "id": "_UdHafvt6Lb4"
      },
      "source": [
        "train3 = train3.drop('Fare_Range', axis = 'columns')"
      ],
      "execution_count": null,
      "outputs": []
    },
    {
      "cell_type": "code",
      "metadata": {
        "colab": {
          "base_uri": "https://localhost:8080/",
          "height": 142
        },
        "id": "aBR6UCd_tBnJ",
        "outputId": "170bf5f3-29b2-4ab7-97a9-f7d65f7f2152"
      },
      "source": [
        "display(train3[train3.Fare> 500])"
      ],
      "execution_count": null,
      "outputs": [
        {
          "output_type": "display_data",
          "data": {
            "text/html": [
              "<div>\n",
              "<style scoped>\n",
              "    .dataframe tbody tr th:only-of-type {\n",
              "        vertical-align: middle;\n",
              "    }\n",
              "\n",
              "    .dataframe tbody tr th {\n",
              "        vertical-align: top;\n",
              "    }\n",
              "\n",
              "    .dataframe thead th {\n",
              "        text-align: right;\n",
              "    }\n",
              "</style>\n",
              "<table border=\"1\" class=\"dataframe\">\n",
              "  <thead>\n",
              "    <tr style=\"text-align: right;\">\n",
              "      <th></th>\n",
              "      <th>Survived</th>\n",
              "      <th>Pclass</th>\n",
              "      <th>Sex</th>\n",
              "      <th>Age</th>\n",
              "      <th>SibSp</th>\n",
              "      <th>Parch</th>\n",
              "      <th>Fare</th>\n",
              "      <th>Cabin</th>\n",
              "      <th>Embarked</th>\n",
              "    </tr>\n",
              "  </thead>\n",
              "  <tbody>\n",
              "    <tr>\n",
              "      <th>258</th>\n",
              "      <td>1</td>\n",
              "      <td>1</td>\n",
              "      <td>female</td>\n",
              "      <td>35.0</td>\n",
              "      <td>0</td>\n",
              "      <td>0</td>\n",
              "      <td>512.3292</td>\n",
              "      <td>0</td>\n",
              "      <td>C</td>\n",
              "    </tr>\n",
              "    <tr>\n",
              "      <th>679</th>\n",
              "      <td>1</td>\n",
              "      <td>1</td>\n",
              "      <td>male</td>\n",
              "      <td>36.0</td>\n",
              "      <td>0</td>\n",
              "      <td>1</td>\n",
              "      <td>512.3292</td>\n",
              "      <td>1</td>\n",
              "      <td>C</td>\n",
              "    </tr>\n",
              "    <tr>\n",
              "      <th>737</th>\n",
              "      <td>1</td>\n",
              "      <td>1</td>\n",
              "      <td>male</td>\n",
              "      <td>35.0</td>\n",
              "      <td>0</td>\n",
              "      <td>0</td>\n",
              "      <td>512.3292</td>\n",
              "      <td>1</td>\n",
              "      <td>C</td>\n",
              "    </tr>\n",
              "  </tbody>\n",
              "</table>\n",
              "</div>"
            ],
            "text/plain": [
              "     Survived  Pclass     Sex   Age  SibSp  Parch      Fare  Cabin Embarked\n",
              "258         1       1  female  35.0      0      0  512.3292      0        C\n",
              "679         1       1    male  36.0      0      1  512.3292      1        C\n",
              "737         1       1    male  35.0      0      0  512.3292      1        C"
            ]
          },
          "metadata": {
            "tags": []
          }
        }
      ]
    },
    {
      "cell_type": "markdown",
      "metadata": {
        "id": "CgItNtbKZ275"
      },
      "source": [
        "**Observation:**\n",
        "1.   I won't remove all the outliers as we recognised from earlier analysis that fare is one of the major deciding factor of survival rate\n",
        "2.   Some values are even higher than 500 which is much higher than any other values. Although they might be correct data but such outliers may affect the accuracy of our model hence we will drop these rows.\n",
        "3.   This data shows that these passangers paid a lot for the ticket and they survived as well (which sounds right as they might have been given priority). Still we will drop these rows as such values are very very rare in our data. \n"
      ]
    },
    {
      "cell_type": "code",
      "metadata": {
        "id": "cD1HZHecZ2Y-"
      },
      "source": [
        "train4 = train3[(train3.Fare < 500)] # Dropping very large fare data rows"
      ],
      "execution_count": null,
      "outputs": []
    },
    {
      "cell_type": "markdown",
      "metadata": {
        "id": "TefO-rp9a8E-"
      },
      "source": [
        "## Using One Hot Encoding"
      ]
    },
    {
      "cell_type": "code",
      "metadata": {
        "id": "LuiPjQhNawI_"
      },
      "source": [
        "dummies1 = pd.get_dummies(train4.Sex) # get dummy variables for Sex feature \n",
        "dummies2 = pd.get_dummies(train4.Embarked) # get dummy variables for Embarked feature "
      ],
      "execution_count": null,
      "outputs": []
    },
    {
      "cell_type": "code",
      "metadata": {
        "colab": {
          "base_uri": "https://localhost:8080/",
          "height": 203
        },
        "id": "PPVFp8drbsHB",
        "outputId": "e8f820cd-31d5-4db2-9113-243ce9bd0fe8"
      },
      "source": [
        "# One of the dummy variable should be dropped for each feature \n",
        "train5 = pd.concat([train4.drop(['Sex','Embarked'], axis='columns'), dummies1.drop('female',axis='columns'), dummies2.drop('C', axis='columns')], axis='columns')\n",
        "train5.head()"
      ],
      "execution_count": null,
      "outputs": [
        {
          "output_type": "execute_result",
          "data": {
            "text/html": [
              "<div>\n",
              "<style scoped>\n",
              "    .dataframe tbody tr th:only-of-type {\n",
              "        vertical-align: middle;\n",
              "    }\n",
              "\n",
              "    .dataframe tbody tr th {\n",
              "        vertical-align: top;\n",
              "    }\n",
              "\n",
              "    .dataframe thead th {\n",
              "        text-align: right;\n",
              "    }\n",
              "</style>\n",
              "<table border=\"1\" class=\"dataframe\">\n",
              "  <thead>\n",
              "    <tr style=\"text-align: right;\">\n",
              "      <th></th>\n",
              "      <th>Survived</th>\n",
              "      <th>Pclass</th>\n",
              "      <th>Age</th>\n",
              "      <th>SibSp</th>\n",
              "      <th>Parch</th>\n",
              "      <th>Fare</th>\n",
              "      <th>Cabin</th>\n",
              "      <th>male</th>\n",
              "      <th>Q</th>\n",
              "      <th>S</th>\n",
              "    </tr>\n",
              "  </thead>\n",
              "  <tbody>\n",
              "    <tr>\n",
              "      <th>0</th>\n",
              "      <td>0</td>\n",
              "      <td>3</td>\n",
              "      <td>22.0</td>\n",
              "      <td>1</td>\n",
              "      <td>0</td>\n",
              "      <td>7.2500</td>\n",
              "      <td>0</td>\n",
              "      <td>1</td>\n",
              "      <td>0</td>\n",
              "      <td>1</td>\n",
              "    </tr>\n",
              "    <tr>\n",
              "      <th>1</th>\n",
              "      <td>1</td>\n",
              "      <td>1</td>\n",
              "      <td>38.0</td>\n",
              "      <td>1</td>\n",
              "      <td>0</td>\n",
              "      <td>71.2833</td>\n",
              "      <td>1</td>\n",
              "      <td>0</td>\n",
              "      <td>0</td>\n",
              "      <td>0</td>\n",
              "    </tr>\n",
              "    <tr>\n",
              "      <th>2</th>\n",
              "      <td>1</td>\n",
              "      <td>3</td>\n",
              "      <td>26.0</td>\n",
              "      <td>0</td>\n",
              "      <td>0</td>\n",
              "      <td>7.9250</td>\n",
              "      <td>0</td>\n",
              "      <td>0</td>\n",
              "      <td>0</td>\n",
              "      <td>1</td>\n",
              "    </tr>\n",
              "    <tr>\n",
              "      <th>3</th>\n",
              "      <td>1</td>\n",
              "      <td>1</td>\n",
              "      <td>35.0</td>\n",
              "      <td>1</td>\n",
              "      <td>0</td>\n",
              "      <td>53.1000</td>\n",
              "      <td>1</td>\n",
              "      <td>0</td>\n",
              "      <td>0</td>\n",
              "      <td>1</td>\n",
              "    </tr>\n",
              "    <tr>\n",
              "      <th>4</th>\n",
              "      <td>0</td>\n",
              "      <td>3</td>\n",
              "      <td>35.0</td>\n",
              "      <td>0</td>\n",
              "      <td>0</td>\n",
              "      <td>8.0500</td>\n",
              "      <td>0</td>\n",
              "      <td>1</td>\n",
              "      <td>0</td>\n",
              "      <td>1</td>\n",
              "    </tr>\n",
              "  </tbody>\n",
              "</table>\n",
              "</div>"
            ],
            "text/plain": [
              "   Survived  Pclass   Age  SibSp  Parch     Fare  Cabin  male  Q  S\n",
              "0         0       3  22.0      1      0   7.2500      0     1  0  1\n",
              "1         1       1  38.0      1      0  71.2833      1     0  0  0\n",
              "2         1       3  26.0      0      0   7.9250      0     0  0  1\n",
              "3         1       1  35.0      1      0  53.1000      1     0  0  1\n",
              "4         0       3  35.0      0      0   8.0500      0     1  0  1"
            ]
          },
          "metadata": {
            "tags": []
          },
          "execution_count": 39
        }
      ]
    },
    {
      "cell_type": "markdown",
      "metadata": {
        "id": "IZPnqxr61WwH"
      },
      "source": [
        "# Spliting the Data"
      ]
    },
    {
      "cell_type": "code",
      "metadata": {
        "id": "XF_bPQGPKgCg"
      },
      "source": [
        "# This data will be used later on to train final model  \n",
        "X = train5.drop('Survived', axis='columns')\n",
        "y = train5['Survived']"
      ],
      "execution_count": null,
      "outputs": []
    },
    {
      "cell_type": "code",
      "metadata": {
        "id": "J42SrgkUucHq"
      },
      "source": [
        "from sklearn.model_selection import train_test_split\n",
        "X_train, X_test, y_train, y_test = train_test_split(X, y,test_size=0.2, random_state= 1)"
      ],
      "execution_count": null,
      "outputs": []
    },
    {
      "cell_type": "markdown",
      "metadata": {
        "id": "A4a5fDitaWCz"
      },
      "source": [
        "# Filling Null Values in Age Feature and Correlation Matrix "
      ]
    },
    {
      "cell_type": "code",
      "metadata": {
        "id": "MDFIlbQi8_kN"
      },
      "source": [
        "def fill_age_null(df): # defining a function which fills the null values in age column with appropriate values \n",
        "\n",
        "    median_cabin_age = df.Age[(df['Cabin']==1)].median()  \n",
        "    df['Age'] = df['Age'].fillna(median_cabin_age)          # fill null values with the median of passanger age having a cabin\n",
        "    median_non_cabin_age = df.Age[(df['Cabin']==0)].median()\n",
        "    df['Age'][(df['Cabin']==0)] = df['Age'][(df['Cabin']==0)].apply(lambda x: median_non_cabin_age) # fill null values with the median of passanger age not having a cabin \n",
        "\n",
        "    return df"
      ],
      "execution_count": null,
      "outputs": []
    },
    {
      "cell_type": "code",
      "metadata": {
        "id": "xgKwzIGM9nN_"
      },
      "source": [
        "X_train = fill_age_null(X_train)\n",
        "X_test = fill_age_null(X_test)"
      ],
      "execution_count": null,
      "outputs": []
    },
    {
      "cell_type": "code",
      "metadata": {
        "colab": {
          "base_uri": "https://localhost:8080/",
          "height": 699
        },
        "id": "pspHumunk3jG",
        "outputId": "a2b4a7c6-d977-4f6f-aeca-e157363e3940"
      },
      "source": [
        "corrMatrix = train5.corr(method= 'spearman', min_periods=12) # Use spearman for non-linear\n",
        "fig, ax = plt.subplots(figsize= (13,11.6))\n",
        "sn.heatmap(abs(corrMatrix), annot=True, cbar= True) "
      ],
      "execution_count": null,
      "outputs": [
        {
          "output_type": "execute_result",
          "data": {
            "text/plain": [
              "<matplotlib.axes._subplots.AxesSubplot at 0x7f0f00ba3a10>"
            ]
          },
          "metadata": {
            "tags": []
          },
          "execution_count": 44
        },
        {
          "output_type": "display_data",
          "data": {
            "image/png": "[encoded data removed]",
            "text/plain": [
              "<Figure size 936x835.2 with 2 Axes>"
            ]
          },
          "metadata": {
            "tags": [],
            "needs_background": "light"
          }
        }
      ]
    },
    {
      "cell_type": "markdown",
      "metadata": {
        "id": "znnIQ6HXaz_y"
      },
      "source": [
        "**Observation:**\n",
        "1.   Feature looks nicely correlated with each other. None of the feature is correlated too much with other feature. \n",
        "2.   No need to drop or prepare any feature from this inspection. "
      ]
    },
    {
      "cell_type": "markdown",
      "metadata": {
        "id": "rfdpx-LBZ8iZ"
      },
      "source": [
        "# Scaling"
      ]
    },
    {
      "cell_type": "code",
      "metadata": {
        "id": "6vtbrcmAZ4Vo"
      },
      "source": [
        "from sklearn.preprocessing import StandardScaler\n",
        "sc_train = StandardScaler()\n",
        "sc_test = StandardScaler()  # I am using two different scalers for training and testing data to avoid bias in the model \n",
        "X_train = sc_train.fit_transform(X_train)\n",
        "X_test = sc_test.fit_transform(X_test)"
      ],
      "execution_count": null,
      "outputs": []
    },
    {
      "cell_type": "markdown",
      "metadata": {
        "id": "lOS1ecknRG0S"
      },
      "source": [
        "# **Logistic Regression**"
      ]
    },
    {
      "cell_type": "code",
      "metadata": {
        "colab": {
          "base_uri": "https://localhost:8080/",
          "height": 330
        },
        "id": "T6fVXHNXem2u",
        "outputId": "a45d5999-967a-4822-87d3-784aa88dcfec"
      },
      "source": [
        "from sklearn.linear_model import LogisticRegression\n",
        "model_1 = LogisticRegression()\n",
        "model_1.fit(X_train,y_train)\n",
        "\n",
        "print(model_1.score(X_test,y_test), '\\n')\n",
        "\n",
        "from sklearn.metrics import confusion_matrix\n",
        "y_predicted1 = model_1.predict(X_test)\n",
        "\n",
        "cm_1 = confusion_matrix(y_test.astype('int'), y_predicted1)\n",
        "\n",
        "import seaborn as sn\n",
        "plt.figure(figsize= (4,4))\n",
        "sn.heatmap(cm_1, annot=True, cbar= True) \n",
        "plt.xlabel('Predicted')\n",
        "plt.ylabel('Truth')"
      ],
      "execution_count": null,
      "outputs": [
        {
          "output_type": "stream",
          "text": [
            "0.8146067415730337 \n",
            "\n"
          ],
          "name": "stdout"
        },
        {
          "output_type": "execute_result",
          "data": {
            "text/plain": [
              "Text(15.0, 0.5, 'Truth')"
            ]
          },
          "metadata": {
            "tags": []
          },
          "execution_count": 46
        },
        {
          "output_type": "display_data",
          "data": {
            "image/png": "[encoded data removed]",
            "text/plain": [
              "<Figure size 288x288 with 2 Axes>"
            ]
          },
          "metadata": {
            "tags": [],
            "needs_background": "light"
          }
        }
      ]
    },
    {
      "cell_type": "markdown",
      "metadata": {
        "id": "gsjzhrbRSxFg"
      },
      "source": [
        "# **Decision Tree Classification**"
      ]
    },
    {
      "cell_type": "code",
      "metadata": {
        "colab": {
          "base_uri": "https://localhost:8080/",
          "height": 313
        },
        "id": "5v5KtGEYSwVw",
        "outputId": "eb56143f-6b0c-4e52-e6a3-fe040f29af99"
      },
      "source": [
        "from sklearn import tree \n",
        "model_6 = tree.DecisionTreeClassifier()\n",
        "model_6.fit(X_train, y_train)\n",
        "\n",
        "print(model_6.score(X_test, y_test))\n",
        "\n",
        "from sklearn.metrics import confusion_matrix\n",
        "y_predicted6 = model_6.predict(X_test)\n",
        "\n",
        "cm_6 = confusion_matrix(y_test.astype('int'), y_predicted6)\n",
        "\n",
        "import seaborn as sn\n",
        "plt.figure(figsize= (4,4))\n",
        "sn.heatmap(cm_6, annot=True, cbar= True) \n",
        "plt.xlabel('Predicted')\n",
        "plt.ylabel('Truth')"
      ],
      "execution_count": null,
      "outputs": [
        {
          "output_type": "stream",
          "text": [
            "0.797752808988764\n"
          ],
          "name": "stdout"
        },
        {
          "output_type": "execute_result",
          "data": {
            "text/plain": [
              "Text(15.0, 0.5, 'Truth')"
            ]
          },
          "metadata": {
            "tags": []
          },
          "execution_count": 47
        },
        {
          "output_type": "display_data",
          "data": {
            "image/png": "[encoded data removed]",
            "text/plain": [
              "<Figure size 288x288 with 2 Axes>"
            ]
          },
          "metadata": {
            "tags": [],
            "needs_background": "light"
          }
        }
      ]
    },
    {
      "cell_type": "markdown",
      "metadata": {
        "id": "EHS-p9HnRA0i"
      },
      "source": [
        "# **Random Forest Classification**"
      ]
    },
    {
      "cell_type": "code",
      "metadata": {
        "colab": {
          "base_uri": "https://localhost:8080/",
          "height": 313
        },
        "id": "_mWAn_c29pTA",
        "outputId": "6d1fc34d-8daa-4a0f-c810-a63885c71efa"
      },
      "source": [
        "from sklearn.ensemble import RandomForestClassifier\n",
        "model_2 = RandomForestClassifier(max_depth=10, n_estimators=10)\n",
        "model_2.fit(X_train, y_train)\n",
        "\n",
        "print(model_2.score(X_test, y_test))\n",
        "\n",
        "from sklearn.metrics import confusion_matrix\n",
        "y_predicted2 = model_2.predict(X_test)\n",
        "\n",
        "cm_2 = confusion_matrix(y_test.astype('int'), y_predicted2)\n",
        "\n",
        "import seaborn as sn\n",
        "plt.figure(figsize= (4,4))\n",
        "sn.heatmap(cm_2, annot=True, cbar= True) \n",
        "plt.xlabel('Predicted')\n",
        "plt.ylabel('Truth')"
      ],
      "execution_count": null,
      "outputs": [
        {
          "output_type": "stream",
          "text": [
            "0.7921348314606742\n"
          ],
          "name": "stdout"
        },
        {
          "output_type": "execute_result",
          "data": {
            "text/plain": [
              "Text(15.0, 0.5, 'Truth')"
            ]
          },
          "metadata": {
            "tags": []
          },
          "execution_count": 48
        },
        {
          "output_type": "display_data",
          "data": {
            "image/png": "[encoded data removed]",
            "text/plain": [
              "<Figure size 288x288 with 2 Axes>"
            ]
          },
          "metadata": {
            "tags": [],
            "needs_background": "light"
          }
        }
      ]
    },
    {
      "cell_type": "markdown",
      "metadata": {
        "id": "7IzUZsYNQwKd"
      },
      "source": [
        "# **Support Vector Classification**"
      ]
    },
    {
      "cell_type": "code",
      "metadata": {
        "colab": {
          "base_uri": "https://localhost:8080/",
          "height": 317
        },
        "id": "mKEI4ITfL0tj",
        "outputId": "a6278886-8c02-45da-c59b-86df7291bf5a"
      },
      "source": [
        "from sklearn.svm import SVC\n",
        "model_4 = SVC()\n",
        "model_4.fit(X_train, y_train)\n",
        "\n",
        "print(model_4.score(X_test, y_test))\n",
        "\n",
        "from sklearn.metrics import confusion_matrix\n",
        "y_predicted4 = model_4.predict(X_test)\n",
        "\n",
        "cm_4 = confusion_matrix(y_test, y_predicted4)\n",
        "\n",
        "import seaborn as sn\n",
        "plt.figure(figsize= (4,4))\n",
        "sn.heatmap(cm_4, annot=True, cbar= True) \n",
        "plt.xlabel('Predicted')\n",
        "plt.ylabel('Truth')"
      ],
      "execution_count": null,
      "outputs": [
        {
          "output_type": "stream",
          "text": [
            "0.8033707865168539\n"
          ],
          "name": "stdout"
        },
        {
          "output_type": "execute_result",
          "data": {
            "text/plain": [
              "Text(15.0, 0.5, 'Truth')"
            ]
          },
          "metadata": {
            "tags": []
          },
          "execution_count": 49
        },
        {
          "output_type": "display_data",
          "data": {
            "image/png": "[encoded data removed]",
            "text/plain": [
              "<Figure size 288x288 with 2 Axes>"
            ]
          },
          "metadata": {
            "tags": [],
            "needs_background": "light"
          }
        }
      ]
    },
    {
      "cell_type": "markdown",
      "metadata": {
        "id": "-RqAdVWcQp1O"
      },
      "source": [
        "# **Naive Bayes Classifier**"
      ]
    },
    {
      "cell_type": "code",
      "metadata": {
        "colab": {
          "base_uri": "https://localhost:8080/",
          "height": 313
        },
        "id": "FuZrjNySMrvo",
        "outputId": "20b57723-1ca9-4605-ae50-c7b26f4478d4"
      },
      "source": [
        "from sklearn.naive_bayes import GaussianNB\n",
        "model_5 = GaussianNB()\n",
        "model_5.fit(X_train, y_train)\n",
        "\n",
        "print(model_5.score(X_test, y_test))\n",
        "\n",
        "from sklearn.metrics import confusion_matrix\n",
        "y_predicted5 = model_5.predict(X_test)\n",
        "\n",
        "cm_5 = confusion_matrix(y_test, y_predicted5)\n",
        "\n",
        "import seaborn as sn\n",
        "plt.figure(figsize= (4,4))\n",
        "sn.heatmap(cm_5, annot=True, cbar= True) \n",
        "plt.xlabel('Predicted')\n",
        "plt.ylabel('Truth')"
      ],
      "execution_count": null,
      "outputs": [
        {
          "output_type": "stream",
          "text": [
            "0.7696629213483146\n"
          ],
          "name": "stdout"
        },
        {
          "output_type": "execute_result",
          "data": {
            "text/plain": [
              "Text(15.0, 0.5, 'Truth')"
            ]
          },
          "metadata": {
            "tags": []
          },
          "execution_count": 50
        },
        {
          "output_type": "display_data",
          "data": {
            "image/png": "[encoded data removed]",
            "text/plain": [
              "<Figure size 288x288 with 2 Axes>"
            ]
          },
          "metadata": {
            "tags": [],
            "needs_background": "light"
          }
        }
      ]
    },
    {
      "cell_type": "markdown",
      "metadata": {
        "id": "8gSiRSG8QkQC"
      },
      "source": [
        "# **Nural Network**"
      ]
    },
    {
      "cell_type": "code",
      "metadata": {
        "colab": {
          "base_uri": "https://localhost:8080/",
          "height": 1000
        },
        "id": "TuOXkur6CwD4",
        "outputId": "fbd41c5f-ef99-443c-feb4-26e306a1cdcc"
      },
      "source": [
        "import tensorflow as tf\n",
        "from tensorflow import keras \n",
        "\n",
        "model_3 = keras.Sequential([\n",
        "                  keras.layers.Dense(64, input_shape=(9,), activation='relu'),\n",
        "                  keras.layers.Dense(64, activation='relu'),\n",
        "                  keras.layers.Dense(64, activation='relu'),\n",
        "                  keras.layers.Dense(32, activation='relu'),\n",
        "                  keras.layers.Dense(2, activation='softmax')\n",
        "])\n",
        "model_3.compile(\n",
        "    optimizer='adam', \n",
        "    loss='sparse_categorical_crossentropy',\n",
        "    metrics=['accuracy']\n",
        ")\n",
        "model_3.fit(X_train, y_train, epochs=50)\n",
        "\n",
        "from sklearn.metrics import confusion_matrix\n",
        "\n",
        "y_prob = model_3.predict(X_test)\n",
        "y_predicted3 = [np.argmax(i) for i in y_prob]\n",
        "\n",
        "cm_3 = confusion_matrix(y_test.astype('int'), y_predicted3)\n",
        "\n",
        "import seaborn as sn\n",
        "plt.figure(figsize= (4,4))\n",
        "sn.heatmap(cm_3, annot=True, cbar= True) \n",
        "plt.xlabel('Predicted')\n",
        "plt.ylabel('Truth')"
      ],
      "execution_count": null,
      "outputs": [
        {
          "output_type": "stream",
          "text": [
            "Epoch 1/50\n",
            "23/23 [==============================] - 1s 3ms/step - loss: 0.6211 - accuracy: 0.6606\n",
            "Epoch 2/50\n",
            "23/23 [==============================] - 0s 2ms/step - loss: 0.4961 - accuracy: 0.8014\n",
            "Epoch 3/50\n",
            "23/23 [==============================] - 0s 3ms/step - loss: 0.4491 - accuracy: 0.8127\n",
            "Epoch 4/50\n",
            "23/23 [==============================] - 0s 2ms/step - loss: 0.4280 - accuracy: 0.8141\n",
            "Epoch 5/50\n",
            "23/23 [==============================] - 0s 2ms/step - loss: 0.4158 - accuracy: 0.8169\n",
            "Epoch 6/50\n",
            "23/23 [==============================] - 0s 2ms/step - loss: 0.4064 - accuracy: 0.8211\n",
            "Epoch 7/50\n",
            "23/23 [==============================] - 0s 2ms/step - loss: 0.4011 - accuracy: 0.8239\n",
            "Epoch 8/50\n",
            "23/23 [==============================] - 0s 2ms/step - loss: 0.3943 - accuracy: 0.8366\n",
            "Epoch 9/50\n",
            "23/23 [==============================] - 0s 2ms/step - loss: 0.3969 - accuracy: 0.8310\n",
            "Epoch 10/50\n",
            "23/23 [==============================] - 0s 2ms/step - loss: 0.3865 - accuracy: 0.8366\n",
            "Epoch 11/50\n",
            "23/23 [==============================] - 0s 2ms/step - loss: 0.3881 - accuracy: 0.8338\n",
            "Epoch 12/50\n",
            "23/23 [==============================] - 0s 2ms/step - loss: 0.3837 - accuracy: 0.8310\n",
            "Epoch 13/50\n",
            "23/23 [==============================] - 0s 2ms/step - loss: 0.3811 - accuracy: 0.8324\n",
            "Epoch 14/50\n",
            "23/23 [==============================] - 0s 2ms/step - loss: 0.3806 - accuracy: 0.8352\n",
            "Epoch 15/50\n",
            "23/23 [==============================] - 0s 2ms/step - loss: 0.3723 - accuracy: 0.8380\n",
            "Epoch 16/50\n",
            "23/23 [==============================] - 0s 2ms/step - loss: 0.3715 - accuracy: 0.8408\n",
            "Epoch 17/50\n",
            "23/23 [==============================] - 0s 2ms/step - loss: 0.3837 - accuracy: 0.8380\n",
            "Epoch 18/50\n",
            "23/23 [==============================] - 0s 3ms/step - loss: 0.3721 - accuracy: 0.8465\n",
            "Epoch 19/50\n",
            "23/23 [==============================] - 0s 2ms/step - loss: 0.3784 - accuracy: 0.8423\n",
            "Epoch 20/50\n",
            "23/23 [==============================] - 0s 2ms/step - loss: 0.3709 - accuracy: 0.8408\n",
            "Epoch 21/50\n",
            "23/23 [==============================] - 0s 2ms/step - loss: 0.3630 - accuracy: 0.8507\n",
            "Epoch 22/50\n",
            "23/23 [==============================] - 0s 2ms/step - loss: 0.3607 - accuracy: 0.8423\n",
            "Epoch 23/50\n",
            "23/23 [==============================] - 0s 2ms/step - loss: 0.3527 - accuracy: 0.8549\n",
            "Epoch 24/50\n",
            "23/23 [==============================] - 0s 2ms/step - loss: 0.3539 - accuracy: 0.8437\n",
            "Epoch 25/50\n",
            "23/23 [==============================] - 0s 2ms/step - loss: 0.3604 - accuracy: 0.8521\n",
            "Epoch 26/50\n",
            "23/23 [==============================] - 0s 2ms/step - loss: 0.3483 - accuracy: 0.8493\n",
            "Epoch 27/50\n",
            "23/23 [==============================] - 0s 2ms/step - loss: 0.3501 - accuracy: 0.8521\n",
            "Epoch 28/50\n",
            "23/23 [==============================] - 0s 3ms/step - loss: 0.3501 - accuracy: 0.8493\n",
            "Epoch 29/50\n",
            "23/23 [==============================] - 0s 3ms/step - loss: 0.3538 - accuracy: 0.8507\n",
            "Epoch 30/50\n",
            "23/23 [==============================] - 0s 3ms/step - loss: 0.3508 - accuracy: 0.8535\n",
            "Epoch 31/50\n",
            "23/23 [==============================] - 0s 3ms/step - loss: 0.3463 - accuracy: 0.8662\n",
            "Epoch 32/50\n",
            "23/23 [==============================] - 0s 3ms/step - loss: 0.3410 - accuracy: 0.8592\n",
            "Epoch 33/50\n",
            "23/23 [==============================] - 0s 3ms/step - loss: 0.3374 - accuracy: 0.8662\n",
            "Epoch 34/50\n",
            "23/23 [==============================] - 0s 3ms/step - loss: 0.3425 - accuracy: 0.8563\n",
            "Epoch 35/50\n",
            "23/23 [==============================] - 0s 3ms/step - loss: 0.3345 - accuracy: 0.8718\n",
            "Epoch 36/50\n",
            "23/23 [==============================] - 0s 3ms/step - loss: 0.3315 - accuracy: 0.8634\n",
            "Epoch 37/50\n",
            "23/23 [==============================] - 0s 3ms/step - loss: 0.3282 - accuracy: 0.8718\n",
            "Epoch 38/50\n",
            "23/23 [==============================] - 0s 2ms/step - loss: 0.3275 - accuracy: 0.8634\n",
            "Epoch 39/50\n",
            "23/23 [==============================] - 0s 2ms/step - loss: 0.3324 - accuracy: 0.8690\n",
            "Epoch 40/50\n",
            "23/23 [==============================] - 0s 3ms/step - loss: 0.3269 - accuracy: 0.8676\n",
            "Epoch 41/50\n",
            "23/23 [==============================] - 0s 3ms/step - loss: 0.3290 - accuracy: 0.8592\n",
            "Epoch 42/50\n",
            "23/23 [==============================] - 0s 2ms/step - loss: 0.3212 - accuracy: 0.8704\n",
            "Epoch 43/50\n",
            "23/23 [==============================] - 0s 2ms/step - loss: 0.3182 - accuracy: 0.8634\n",
            "Epoch 44/50\n",
            "23/23 [==============================] - 0s 2ms/step - loss: 0.3302 - accuracy: 0.8718\n",
            "Epoch 45/50\n",
            "23/23 [==============================] - 0s 2ms/step - loss: 0.3236 - accuracy: 0.8662\n",
            "Epoch 46/50\n",
            "23/23 [==============================] - 0s 2ms/step - loss: 0.3131 - accuracy: 0.8803\n",
            "Epoch 47/50\n",
            "23/23 [==============================] - 0s 2ms/step - loss: 0.3143 - accuracy: 0.8789\n",
            "Epoch 48/50\n",
            "23/23 [==============================] - 0s 2ms/step - loss: 0.3309 - accuracy: 0.8676\n",
            "Epoch 49/50\n",
            "23/23 [==============================] - 0s 2ms/step - loss: 0.3235 - accuracy: 0.8620\n",
            "Epoch 50/50\n",
            "23/23 [==============================] - 0s 2ms/step - loss: 0.3127 - accuracy: 0.8718\n"
          ],
          "name": "stdout"
        },
        {
          "output_type": "execute_result",
          "data": {
            "text/plain": [
              "Text(15.0, 0.5, 'Truth')"
            ]
          },
          "metadata": {
            "tags": []
          },
          "execution_count": 51
        },
        {
          "output_type": "display_data",
          "data": {
            "image/png": "[encoded data removed]",
            "text/plain": [
              "<Figure size 288x288 with 2 Axes>"
            ]
          },
          "metadata": {
            "tags": [],
            "needs_background": "light"
          }
        }
      ]
    },
    {
      "cell_type": "markdown",
      "metadata": {
        "id": "PLbeiIMR70k_"
      },
      "source": [
        "# **K-Nearest Neighbors**"
      ]
    },
    {
      "cell_type": "code",
      "metadata": {
        "colab": {
          "base_uri": "https://localhost:8080/",
          "height": 313
        },
        "id": "PXdh13NX78UI",
        "outputId": "0c5e6fbc-887f-4cc0-e6b0-0b4c3590cb33"
      },
      "source": [
        "from sklearn.neighbors import KNeighborsClassifier\n",
        "model_7 = KNeighborsClassifier(n_neighbors=10)\n",
        "model_7.fit(X_train, y_train)\n",
        "\n",
        "print(model_7.score(X_test, y_test))\n",
        "\n",
        "from sklearn.metrics import confusion_matrix\n",
        "y_predicted7 = model_7.predict(X_test)\n",
        "\n",
        "cm_7 = confusion_matrix(y_test, y_predicted7)\n",
        "\n",
        "import seaborn as sn\n",
        "plt.figure(figsize= (4,4))\n",
        "sn.heatmap(cm_7, annot=True, cbar= True) \n",
        "plt.xlabel('Predicted')\n",
        "plt.ylabel('Truth')"
      ],
      "execution_count": null,
      "outputs": [
        {
          "output_type": "stream",
          "text": [
            "0.8033707865168539\n"
          ],
          "name": "stdout"
        },
        {
          "output_type": "execute_result",
          "data": {
            "text/plain": [
              "Text(15.0, 0.5, 'Truth')"
            ]
          },
          "metadata": {
            "tags": []
          },
          "execution_count": 52
        },
        {
          "output_type": "display_data",
          "data": {
            "image/png": "[encoded data removed]",
            "text/plain": [
              "<Figure size 288x288 with 2 Axes>"
            ]
          },
          "metadata": {
            "tags": [],
            "needs_background": "light"
          }
        }
      ]
    },
    {
      "cell_type": "markdown",
      "metadata": {
        "id": "oZJYr_3mQWcZ"
      },
      "source": [
        "# **Hyper parameter for Random Forest Classifier**"
      ]
    },
    {
      "cell_type": "code",
      "metadata": {
        "colab": {
          "base_uri": "https://localhost:8080/"
        },
        "id": "Mhnm5k7dJ9rD",
        "outputId": "725c250e-7fdb-4531-801d-f72de8e2b0c3"
      },
      "source": [
        "from sklearn.model_selection import GridSearchCV\n",
        "\n",
        "clf = GridSearchCV(RandomForestClassifier(), {\n",
        "    'max_depth': [1, 10, 20, 50],\n",
        "    'n_estimators': [1, 10, 20, 50]\n",
        " }, scoring= 'accuracy'\n",
        ")\n",
        "\n",
        "clf.fit(X_train, y_train)"
      ],
      "execution_count": null,
      "outputs": [
        {
          "output_type": "execute_result",
          "data": {
            "text/plain": [
              "GridSearchCV(cv=None, error_score=nan,\n",
              "             estimator=RandomForestClassifier(bootstrap=True, ccp_alpha=0.0,\n",
              "                                              class_weight=None,\n",
              "                                              criterion='gini', max_depth=None,\n",
              "                                              max_features='auto',\n",
              "                                              max_leaf_nodes=None,\n",
              "                                              max_samples=None,\n",
              "                                              min_impurity_decrease=0.0,\n",
              "                                              min_impurity_split=None,\n",
              "                                              min_samples_leaf=1,\n",
              "                                              min_samples_split=2,\n",
              "                                              min_weight_fraction_leaf=0.0,\n",
              "                                              n_estimators=100, n_jobs=None,\n",
              "                                              oob_score=False,\n",
              "                                              random_state=None, verbose=0,\n",
              "                                              warm_start=False),\n",
              "             iid='deprecated', n_jobs=None,\n",
              "             param_grid={'max_depth': [1, 10, 20, 50],\n",
              "                         'n_estimators': [1, 10, 20, 50]},\n",
              "             pre_dispatch='2*n_jobs', refit=True, return_train_score=False,\n",
              "             scoring='accuracy', verbose=0)"
            ]
          },
          "metadata": {
            "tags": []
          },
          "execution_count": 53
        }
      ]
    },
    {
      "cell_type": "code",
      "metadata": {
        "colab": {
          "base_uri": "https://localhost:8080/"
        },
        "id": "xAb5aqZpLJHd",
        "outputId": "d1b0b1c8-4378-424b-b2c8-33ba99452f17"
      },
      "source": [
        "result = pd.DataFrame(clf.cv_results_)\n",
        "print('Best parameters are:',clf.best_params_)"
      ],
      "execution_count": null,
      "outputs": [
        {
          "output_type": "stream",
          "text": [
            "Best parameters are: {'max_depth': 10, 'n_estimators': 50}\n"
          ],
          "name": "stdout"
        }
      ]
    },
    {
      "cell_type": "markdown",
      "metadata": {
        "id": "a2wwZPGr9vRF"
      },
      "source": [
        "# Ensemble Model"
      ]
    },
    {
      "cell_type": "code",
      "metadata": {
        "id": "mxtxigd_i5kA"
      },
      "source": [
        "y_pred = y_predicted1 + y_predicted2 + y_predicted3 + y_predicted4 + y_predicted5 + y_predicted6 + y_predicted7 "
      ],
      "execution_count": null,
      "outputs": []
    },
    {
      "cell_type": "code",
      "metadata": {
        "id": "c7iBP5NOwwuA"
      },
      "source": [
        "final_pred = [0 if i < 3.5 else 1 for i in y_pred ]"
      ],
      "execution_count": null,
      "outputs": []
    },
    {
      "cell_type": "code",
      "metadata": {
        "colab": {
          "base_uri": "https://localhost:8080/",
          "height": 296
        },
        "id": "DevuynqLygVJ",
        "outputId": "ed33e283-2c43-4529-e900-375a708a9662"
      },
      "source": [
        "cm_7 = confusion_matrix(y_test, final_pred)\n",
        "\n",
        "import seaborn as sn\n",
        "plt.figure(figsize= (4,4))\n",
        "sn.heatmap(cm_7, annot=True, cbar= True) \n",
        "plt.xlabel('Predicted')\n",
        "plt.ylabel('Truth')"
      ],
      "execution_count": null,
      "outputs": [
        {
          "output_type": "execute_result",
          "data": {
            "text/plain": [
              "Text(15.0, 0.5, 'Truth')"
            ]
          },
          "metadata": {
            "tags": []
          },
          "execution_count": 57
        },
        {
          "output_type": "display_data",
          "data": {
            "image/png": "[encoded data removed]",
            "text/plain": [
              "<Figure size 288x288 with 2 Axes>"
            ]
          },
          "metadata": {
            "tags": [],
            "needs_background": "light"
          }
        }
      ]
    },
    {
      "cell_type": "code",
      "metadata": {
        "colab": {
          "base_uri": "https://localhost:8080/"
        },
        "id": "Zbky9-BCzaBR",
        "outputId": "86db58d2-2547-4870-9f08-5af7fa65559f"
      },
      "source": [
        "from sklearn.metrics import confusion_matrix, classification_report\n",
        "print(classification_report(y_test, final_pred))"
      ],
      "execution_count": null,
      "outputs": [
        {
          "output_type": "stream",
          "text": [
            "              precision    recall  f1-score   support\n",
            "\n",
            "           0       0.80      0.92      0.85       107\n",
            "           1       0.84      0.65      0.73        71\n",
            "\n",
            "    accuracy                           0.81       178\n",
            "   macro avg       0.82      0.78      0.79       178\n",
            "weighted avg       0.81      0.81      0.80       178\n",
            "\n"
          ],
          "name": "stdout"
        }
      ]
    }
  ]
}